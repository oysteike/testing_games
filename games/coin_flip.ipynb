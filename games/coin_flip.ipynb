{
 "cells": [
  {
   "cell_type": "code",
   "execution_count": 14,
   "metadata": {},
   "outputs": [
    {
     "name": "stdout",
     "output_type": "stream",
     "text": [
      "You lose!\n"
     ]
    }
   ],
   "source": [
    "import random as rand\n",
    "\n",
    "def guess_coin_flip():\n",
    "    guess = input('Heads or Tails? ')\n",
    "    if guess == rand.choice(['Heads', 'Tails']):\n",
    "        print('You win!')\n",
    "    else:\n",
    "        print('You lose!')\n",
    "\n",
    "guess_coin_flip()"
   ]
  }
 ],
 "metadata": {
  "kernelspec": {
   "display_name": "venv",
   "language": "python",
   "name": "python3"
  },
  "language_info": {
   "codemirror_mode": {
    "name": "ipython",
    "version": 3
   },
   "file_extension": ".py",
   "mimetype": "text/x-python",
   "name": "python",
   "nbconvert_exporter": "python",
   "pygments_lexer": "ipython3",
   "version": "3.13.1"
  }
 },
 "nbformat": 4,
 "nbformat_minor": 2
}
